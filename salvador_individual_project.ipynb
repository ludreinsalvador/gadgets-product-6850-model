{
  "nbformat": 4,
  "nbformat_minor": 0,
  "metadata": {
    "colab": {
      "provenance": []
    },
    "kernelspec": {
      "name": "python3",
      "display_name": "Python 3"
    },
    "language_info": {
      "name": "python"
    }
  },
  "cells": [
    {
      "cell_type": "markdown",
      "source": [
        "# **Machine Learning Project - Predicting Customer Purchases to Increase Sales Revenue of a Low-Performing Product**"
      ],
      "metadata": {
        "id": "3IXHQVaLFP60"
      }
    },
    {
      "cell_type": "markdown",
      "source": [
        "# **I. Objective and Scope + ML Canvas Plan**\n",
        "\n",
        "- Week 8 | Individual Project Kickoff Project Planning\n",
        "- Goal: Complete the ML Canvas (project planning)\n",
        "\n",
        "As a data scientist working in a retail industry. These are the following things I need to consider in building an ML model:\n",
        "\n",
        "- Marketing team consults on how to increase sales revenue of a\n",
        "low-performing product.\n",
        "- Create an ML model that predicts a customer that will buy the target product. Ensure that the model has the highest accuracy, precision, and recall.\n",
        "- Dataset: week8_student_project.csv.gz"
      ],
      "metadata": {
        "id": "F4E5U6GaZoH2"
      }
    },
    {
      "cell_type": "code",
      "execution_count": null,
      "metadata": {
        "id": "LQeDRTimd40v",
        "colab": {
          "base_uri": "https://localhost:8080/"
        },
        "outputId": "2b66f51b-fac8-4dbd-c875-2ae2d670a64a"
      },
      "outputs": [
        {
          "output_type": "stream",
          "name": "stdout",
          "text": [
            "Requirement already satisfied: pyspark in /usr/local/lib/python3.11/dist-packages (3.5.5)\n",
            "Requirement already satisfied: py4j==0.10.9.7 in /usr/local/lib/python3.11/dist-packages (from pyspark) (0.10.9.7)\n",
            "Requirement already satisfied: findspark in /usr/local/lib/python3.11/dist-packages (2.0.1)\n",
            "Requirement already satisfied: dill in /usr/local/lib/python3.11/dist-packages (0.3.9)\n"
          ]
        }
      ],
      "source": [
        "# Installing packages\n",
        "!pip install pyspark\n",
        "!pip install findspark\n",
        "!pip install dill"
      ]
    },
    {
      "cell_type": "code",
      "source": [
        "# Set up pyspark\n",
        "import findspark\n",
        "findspark.init()\n",
        "from pyspark.sql import SparkSession\n",
        "\n",
        "spark = SparkSession.builder \\\n",
        "        .master('local[*]') \\\n",
        "        .appName('Basics') \\\n",
        "        .getOrCreate()\n",
        "\n",
        "print(spark.version)"
      ],
      "metadata": {
        "id": "NF_e2c0Bfa5I",
        "colab": {
          "base_uri": "https://localhost:8080/"
        },
        "outputId": "dea6ee7e-282b-460c-dc75-c24b957bd790"
      },
      "execution_count": null,
      "outputs": [
        {
          "output_type": "stream",
          "name": "stdout",
          "text": [
            "3.5.5\n"
          ]
        }
      ]
    },
    {
      "cell_type": "code",
      "source": [
        "from google.colab import drive\n",
        "drive.mount('/content/drive')"
      ],
      "metadata": {
        "colab": {
          "base_uri": "https://localhost:8080/"
        },
        "id": "hibsH8ZanEy3",
        "outputId": "2f45e6f7-b01f-401f-9151-26190d0408fb"
      },
      "execution_count": null,
      "outputs": [
        {
          "output_type": "stream",
          "name": "stdout",
          "text": [
            "Mounted at /content/drive\n"
          ]
        }
      ]
    },
    {
      "cell_type": "code",
      "source": [
        "# Importing packages\n",
        "import numpy as np\n",
        "import pandas as pd\n",
        "import matplotlib.pyplot as plt\n",
        "from sklearn.model_selection import train_test_split\n",
        "from sklearn.preprocessing import MinMaxScaler, StandardScaler, OneHotEncoder\n",
        "from sklearn.linear_model import LogisticRegression\n",
        "from sklearn.metrics import accuracy_score, precision_score, recall_score, confusion_matrix, ConfusionMatrixDisplay\n",
        "from sklearn.compose import ColumnTransformer\n",
        "from sklearn.pipeline import Pipeline\n",
        "\n",
        "pd.set_option('display.max_columns', None)\n",
        "pd.set_option('display.max_rows', None)\n",
        "\n",
        "#### Assigning my home directory\n",
        "home_dir = '/content/drive/MyDrive/ TERM 7/MACHINE/churn_prediction'"
      ],
      "metadata": {
        "id": "OjahYfEOW1IY"
      },
      "execution_count": null,
      "outputs": []
    },
    {
      "cell_type": "code",
      "source": [
        "# Defining the functions\n",
        "# Importing additional packages\n",
        "import datetime\n",
        "import csv\n",
        "import yaml\n",
        "import io\n",
        "import dill as pickle\n",
        "import os\n",
        "\n",
        "def get_datetime():\n",
        "    \"\"\"Returns datetime for filename use.\n",
        "\n",
        "    :return: datetime\n",
        "    :rtype: string\n",
        "    \"\"\"\n",
        "    stamp = datetime.datetime.now()\n",
        "    datetime_name = f\"{stamp.year:04}{stamp.month:02}{stamp.day:02}_{stamp.hour:02}{stamp.minute:02}\"\n",
        "    print(datetime_name)\n",
        "    return datetime_name\n",
        "\n",
        "print('Functions ready!')"
      ],
      "metadata": {
        "id": "Z3ZoKjOLB9gA",
        "colab": {
          "base_uri": "https://localhost:8080/"
        },
        "outputId": "326658a0-aaea-4df3-9d6a-a4fbcd8eb18a"
      },
      "execution_count": null,
      "outputs": [
        {
          "output_type": "stream",
          "name": "stdout",
          "text": [
            "Functions ready!\n"
          ]
        }
      ]
    },
    {
      "cell_type": "code",
      "source": [
        "# Reading the data using pyspark\n",
        "df_2018_demo = spark.read.csv(f\"{home_dir}/data/week8_student_project.csv.gz\", inferSchema=True, header=True)\n",
        "print(f\"{df_2018_demo.show(5)}\")\n",
        "df_2018_demo.createOrReplaceTempView(\"df_2018_demo_view\")"
      ],
      "metadata": {
        "id": "5v2lfvO5Hf8z",
        "colab": {
          "base_uri": "https://localhost:8080/"
        },
        "outputId": "a08713af-840e-4393-9ffb-7d4cc72142b5"
      },
      "execution_count": null,
      "outputs": [
        {
          "output_type": "stream",
          "name": "stdout",
          "text": [
            "+----------------+-----------+------+--------------------+-----------------+----------------+------+-------+--------+--------+------+-----+---------+------------+---------+--------------------+----------------+-------------+-----------+------+-------------+\n",
            "|transaction_date|member_type|branch|           member_id|transaction_month|transaction_year|gender|product|quantity|category|amount|  age|card_type|weather_date|branch_id|        weather_list|temperature_list|realfell_list|branch_name|region|category_name|\n",
            "+----------------+-----------+------+--------------------+-----------------+----------------+------+-------+--------+--------+------+-----+---------+------------+---------+--------------------+----------------+-------------+-----------+------+-------------+\n",
            "|      2018-04-01|     member|     E|ff96777d-cfda-11e...|              APR|            2018|FEMALE|   3267|      16|     127|  5100|30-35|  REGULAR|  2018-04-01|        E|       Partly cloudy|              24|           28|    E_Store|     3|  FROZEN FOOD|\n",
            "|      2018-04-09|     member|     A|00d89024-cfdb-11e...|              APR|            2018|FEMALE|   6748|       1|     111|  1100|55-60|  REGULAR|  2018-04-09|        A|Mostly cloudy w s...|              19|           23|    A_Store|     1|          PET|\n",
            "|      2018-04-01|     member|     A|00858b3b-cfdb-11e...|              APR|            2018|FEMALE|    420|       4|      54|  5300|55-60|  REGULAR|  2018-04-01|        A|Mostly cloudy w s...|              29|           33|    A_Store|     1|          PET|\n",
            "|      2018-04-13|     member|     A|001035ed-cfdb-11e...|              APR|            2018|FEMALE|   3178|      16|      58|  5600|45-50|  REGULAR|  2018-04-13|        A|        Mostly clear|              19|           23|    A_Store|     1|      GADGETS|\n",
            "|      2018-04-15|     member|     A|ff5fafeb-cfda-11e...|              APR|            2018|FEMALE|   2727|      19|     192|  7600|25-30|  REGULAR|  2018-04-15|        A|              Cloudy|              22|           26|    A_Store|     1|      CLOTHES|\n",
            "+----------------+-----------+------+--------------------+-----------------+----------------+------+-------+--------+--------+------+-----+---------+------------+---------+--------------------+----------------+-------------+-----------+------+-------------+\n",
            "only showing top 5 rows\n",
            "\n",
            "None\n"
          ]
        }
      ]
    },
    {
      "cell_type": "code",
      "source": [
        "# Checking first 5 rows of data\n",
        "spark.sql('''\n",
        "SELECT\n",
        "  *\n",
        "FROM\n",
        "  df_2018_demo_view\n",
        "LIMIT\n",
        "  5\n",
        "''').show()"
      ],
      "metadata": {
        "id": "ATE_uUBsjzoj",
        "colab": {
          "base_uri": "https://localhost:8080/"
        },
        "outputId": "0f46b6c5-ae65-4b83-bfac-58ca85276db9"
      },
      "execution_count": null,
      "outputs": [
        {
          "output_type": "stream",
          "name": "stdout",
          "text": [
            "+----------------+-----------+------+--------------------+-----------------+----------------+------+-------+--------+--------+------+-----+---------+------------+---------+--------------------+----------------+-------------+-----------+------+-------------+\n",
            "|transaction_date|member_type|branch|           member_id|transaction_month|transaction_year|gender|product|quantity|category|amount|  age|card_type|weather_date|branch_id|        weather_list|temperature_list|realfell_list|branch_name|region|category_name|\n",
            "+----------------+-----------+------+--------------------+-----------------+----------------+------+-------+--------+--------+------+-----+---------+------------+---------+--------------------+----------------+-------------+-----------+------+-------------+\n",
            "|      2018-04-01|     member|     E|ff96777d-cfda-11e...|              APR|            2018|FEMALE|   3267|      16|     127|  5100|30-35|  REGULAR|  2018-04-01|        E|       Partly cloudy|              24|           28|    E_Store|     3|  FROZEN FOOD|\n",
            "|      2018-04-09|     member|     A|00d89024-cfdb-11e...|              APR|            2018|FEMALE|   6748|       1|     111|  1100|55-60|  REGULAR|  2018-04-09|        A|Mostly cloudy w s...|              19|           23|    A_Store|     1|          PET|\n",
            "|      2018-04-01|     member|     A|00858b3b-cfdb-11e...|              APR|            2018|FEMALE|    420|       4|      54|  5300|55-60|  REGULAR|  2018-04-01|        A|Mostly cloudy w s...|              29|           33|    A_Store|     1|          PET|\n",
            "|      2018-04-13|     member|     A|001035ed-cfdb-11e...|              APR|            2018|FEMALE|   3178|      16|      58|  5600|45-50|  REGULAR|  2018-04-13|        A|        Mostly clear|              19|           23|    A_Store|     1|      GADGETS|\n",
            "|      2018-04-15|     member|     A|ff5fafeb-cfda-11e...|              APR|            2018|FEMALE|   2727|      19|     192|  7600|25-30|  REGULAR|  2018-04-15|        A|              Cloudy|              22|           26|    A_Store|     1|      CLOTHES|\n",
            "+----------------+-----------+------+--------------------+-----------------+----------------+------+-------+--------+--------+------+-----+---------+------------+---------+--------------------+----------------+-------------+-----------+------+-------------+\n",
            "\n"
          ]
        }
      ]
    },
    {
      "cell_type": "code",
      "source": [
        "# Checking the partition dates\n",
        "spark.sql('''\n",
        "SELECT\n",
        "  MIN(transaction_date)\n",
        "  ,MAX(transaction_date)\n",
        "FROM\n",
        "  df_2018_demo_view\n",
        "''').show()"
      ],
      "metadata": {
        "colab": {
          "base_uri": "https://localhost:8080/"
        },
        "id": "uZGTWDEWfjaY",
        "outputId": "68c43b60-bdd7-42a1-a4ad-9493d757bbef"
      },
      "execution_count": null,
      "outputs": [
        {
          "output_type": "stream",
          "name": "stdout",
          "text": [
            "+---------------------+---------------------+\n",
            "|min(transaction_date)|max(transaction_date)|\n",
            "+---------------------+---------------------+\n",
            "|           2018-01-01|           2019-12-31|\n",
            "+---------------------+---------------------+\n",
            "\n"
          ]
        }
      ]
    },
    {
      "cell_type": "code",
      "source": [
        "# Checking the count of transactions for 2018 data\n",
        "spark.sql('''\n",
        "SELECT\n",
        "  COUNT(CASE WHEN transaction_date BETWEEN '2018-01-01' AND '2018-12-31' THEN 1 ELSE NULL END) AS 2018_total_txns\n",
        "  ,COUNT(CASE WHEN transaction_date BETWEEN '2019-01-01' AND '2019-12-31' THEN 1 ELSE NULL END) AS 2019_total_txns\n",
        "  ,COUNT(CASE WHEN transaction_date BETWEEN '2018-01-01' AND '2019-12-31' THEN 1 ELSE NULL END) AS total_txns\n",
        "FROM\n",
        "  df_2018_demo_view\n",
        "''').show()"
      ],
      "metadata": {
        "colab": {
          "base_uri": "https://localhost:8080/"
        },
        "id": "8xH70jAise8r",
        "outputId": "7305fd70-9d3a-46e7-c61d-09bdd004f5ea"
      },
      "execution_count": null,
      "outputs": [
        {
          "output_type": "stream",
          "name": "stdout",
          "text": [
            "+---------------+---------------+----------+\n",
            "|2018_total_txns|2019_total_txns|total_txns|\n",
            "+---------------+---------------+----------+\n",
            "|        2179008|        2176320|   4355328|\n",
            "+---------------+---------------+----------+\n",
            "\n"
          ]
        }
      ]
    },
    {
      "cell_type": "code",
      "source": [
        "# Getting the transaction count per month\n",
        "spark.sql('''\n",
        "SELECT\n",
        "    transaction_year,\n",
        "    transaction_month,\n",
        "    COUNT(*) AS transaction_count\n",
        "FROM df_2018_demo_view\n",
        "GROUP BY transaction_year, transaction_month\n",
        "ORDER BY transaction_year,\n",
        "         CASE\n",
        "             WHEN transaction_month = 'JAN' THEN 1\n",
        "             WHEN transaction_month = 'FEB' THEN 2\n",
        "             WHEN transaction_month = 'MAR' THEN 3\n",
        "             WHEN transaction_month = 'APR' THEN 4\n",
        "             WHEN transaction_month = 'MAY' THEN 5\n",
        "             WHEN transaction_month = 'JUN' THEN 6\n",
        "             WHEN transaction_month = 'JUL' THEN 7\n",
        "             WHEN transaction_month = 'AUG' THEN 8\n",
        "             WHEN transaction_month = 'SEP' THEN 9\n",
        "             WHEN transaction_month = 'OCT' THEN 10\n",
        "             WHEN transaction_month = 'NOV' THEN 11\n",
        "             WHEN transaction_month = 'DEC' THEN 12\n",
        "         END\n",
        "''').show(50)"
      ],
      "metadata": {
        "colab": {
          "base_uri": "https://localhost:8080/"
        },
        "id": "F-OsUxv_rctl",
        "outputId": "7f593ae2-d128-47ba-e09e-620c91ad9019"
      },
      "execution_count": null,
      "outputs": [
        {
          "output_type": "stream",
          "name": "stdout",
          "text": [
            "+----------------+-----------------+-----------------+\n",
            "|transaction_year|transaction_month|transaction_count|\n",
            "+----------------+-----------------+-----------------+\n",
            "|            2018|              JAN|           190117|\n",
            "|            2018|              FEB|           187789|\n",
            "|            2018|              MAR|           228579|\n",
            "|            2018|              APR|           204935|\n",
            "|            2018|              MAY|           308383|\n",
            "|            2018|              JUN|           292253|\n",
            "|            2018|              JUL|            94626|\n",
            "|            2018|              AUG|            42902|\n",
            "|            2018|              OCT|           203725|\n",
            "|            2018|              NOV|           133960|\n",
            "|            2018|              DEC|           291739|\n",
            "|            2019|              JAN|           188948|\n",
            "|            2019|              FEB|           188600|\n",
            "|            2019|              MAR|           227770|\n",
            "|            2019|              APR|           204166|\n",
            "|            2019|              MAY|           307653|\n",
            "|            2019|              JUN|           292714|\n",
            "|            2019|              JUL|            95046|\n",
            "|            2019|              AUG|            42823|\n",
            "|            2019|              OCT|           205764|\n",
            "|            2019|              NOV|           132435|\n",
            "|            2019|              DEC|           290401|\n",
            "+----------------+-----------------+-----------------+\n",
            "\n"
          ]
        }
      ]
    },
    {
      "cell_type": "code",
      "source": [
        "# Checking the category of products\n",
        "spark.sql('''\n",
        "WITH\n",
        "distinct_productcategory AS (\n",
        "SELECT\n",
        "  DISTINCT CAST(product AS STRING) AS product_id\n",
        "  ,category_name\n",
        "FROM\n",
        "  df_2018_demo_view\n",
        ")\n",
        "\n",
        "SELECT\n",
        "  category_name\n",
        "  ,COUNT(category_name) AS product_count\n",
        "  ,COUNT(DISTINCT product_id) AS cntd_product\n",
        "FROM\n",
        "  distinct_productcategory\n",
        "GROUP BY\n",
        "  category_name\n",
        "ORDER BY\n",
        "  category_name\n",
        "''').show()"
      ],
      "metadata": {
        "colab": {
          "base_uri": "https://localhost:8080/"
        },
        "id": "N-I9dvDWsSLL",
        "outputId": "90634d4d-0daf-4fd5-a132-52c349c717f4"
      },
      "execution_count": null,
      "outputs": [
        {
          "output_type": "stream",
          "name": "stdout",
          "text": [
            "+-------------+-------------+------------+\n",
            "|category_name|product_count|cntd_product|\n",
            "+-------------+-------------+------------+\n",
            "|  ACCESSORIES|         1020|        1020|\n",
            "|   APPLIANCES|          989|         989|\n",
            "|     CLEANERS|         1035|        1035|\n",
            "|      CLOTHES|          990|         990|\n",
            "|         FOOD|          976|         976|\n",
            "|  FROZEN FOOD|         1014|        1014|\n",
            "|      GADGETS|          953|         953|\n",
            "|     HARDWARE|         1034|        1034|\n",
            "|          PET|         1022|        1022|\n",
            "|        SHOES|          967|         967|\n",
            "+-------------+-------------+------------+\n",
            "\n"
          ]
        }
      ]
    },
    {
      "cell_type": "code",
      "source": [
        "low_performing_gadgets = spark.sql('''\n",
        "    SELECT product, COUNT(*) AS transaction_count, SUM(amount) AS total_sales\n",
        "    FROM df_2018_demo_view\n",
        "    WHERE category_name = 'GADGETS'\n",
        "    GROUP BY product\n",
        "    ORDER BY transaction_count ASC\n",
        "    LIMIT 10\n",
        "''')\n",
        "low_performing_gadgets.show()"
      ],
      "metadata": {
        "colab": {
          "base_uri": "https://localhost:8080/"
        },
        "id": "TijFWdIMhRJW",
        "outputId": "1588e3af-146a-4d4e-e358-8907e03e3c53"
      },
      "execution_count": null,
      "outputs": [
        {
          "output_type": "stream",
          "name": "stdout",
          "text": [
            "+-------+-----------------+-----------+\n",
            "|product|transaction_count|total_sales|\n",
            "+-------+-----------------+-----------+\n",
            "|   9980|              103|     669500|\n",
            "|   6850|              103|     288400|\n",
            "|   7236|              105|     745500|\n",
            "|   7335|              105|     273000|\n",
            "|   7451|              106|     763200|\n",
            "|   7213|              107|     866700|\n",
            "|   6840|              109|     991900|\n",
            "|   7405|              112|     873600|\n",
            "|   6791|              113|     248600|\n",
            "|   6836|              113|     858800|\n",
            "+-------+-----------------+-----------+\n",
            "\n"
          ]
        }
      ]
    },
    {
      "cell_type": "code",
      "source": [
        "# Customer Demographics\n",
        "customer_demographics = spark.sql('''\n",
        "    SELECT age, gender, COUNT(*) AS purchase_count\n",
        "    FROM df_2018_demo_view\n",
        "    WHERE category_name = 'GADGETS' AND product = 6850\n",
        "    GROUP BY age, gender\n",
        "    ORDER BY purchase_count DESC\n",
        "''')\n",
        "customer_demographics.show()"
      ],
      "metadata": {
        "colab": {
          "base_uri": "https://localhost:8080/"
        },
        "id": "G0qFifPvvNrY",
        "outputId": "6c53c130-2835-4bd6-9d10-c0d471d59229"
      },
      "execution_count": null,
      "outputs": [
        {
          "output_type": "stream",
          "name": "stdout",
          "text": [
            "+--------+------+--------------+\n",
            "|     age|gender|purchase_count|\n",
            "+--------+------+--------------+\n",
            "|   50-55|FEMALE|            17|\n",
            "|   55-60|FEMALE|            12|\n",
            "|   55-60|  MALE|            11|\n",
            "|   50-55|  MALE|             9|\n",
            "|   45-50|FEMALE|             8|\n",
            "|   35-40|FEMALE|             7|\n",
            "|   18-25|FEMALE|             6|\n",
            "|60 Above|FEMALE|             6|\n",
            "|   40-45|FEMALE|             6|\n",
            "|   30-35|FEMALE|             4|\n",
            "|   25-30|  MALE|             3|\n",
            "|   45-50|  MALE|             3|\n",
            "|   25-30|FEMALE|             3|\n",
            "|   35-40|  MALE|             3|\n",
            "|   30-35|  MALE|             2|\n",
            "|   40-45|  MALE|             2|\n",
            "|60 Above|  MALE|             1|\n",
            "+--------+------+--------------+\n",
            "\n"
          ]
        }
      ]
    },
    {
      "cell_type": "code",
      "source": [
        "# Feature Variability\n",
        "feature_variability = spark.sql('''\n",
        "    SELECT DISTINCT branch_name, weather_list, card_type\n",
        "    FROM df_2018_demo_view\n",
        "    WHERE product = 6850\n",
        "''')\n",
        "feature_variability.show()"
      ],
      "metadata": {
        "colab": {
          "base_uri": "https://localhost:8080/"
        },
        "id": "bzOOrdt1vQgA",
        "outputId": "8866f7d7-2a0f-4027-9100-627890a632d4"
      },
      "execution_count": null,
      "outputs": [
        {
          "output_type": "stream",
          "name": "stdout",
          "text": [
            "+-----------+--------------------+---------+\n",
            "|branch_name|        weather_list|card_type|\n",
            "+-----------+--------------------+---------+\n",
            "|    G_Store|Partly sunny w sh...|  REGULAR|\n",
            "|    F_Store|        Mostly clear|  REGULAR|\n",
            "|    F_Store|       Partly cloudy|  PREMIUM|\n",
            "|    D_Store|Partly sunny w sh...|  PREMIUM|\n",
            "|    E_Store|Mostly cloudy w s...|  REGULAR|\n",
            "|    G_Store|              Cloudy|  REGULAR|\n",
            "|    H_Store|                Rain|  REGULAR|\n",
            "|    G_Store|             Showers|  REGULAR|\n",
            "|    C_Store|               Sunny|  REGULAR|\n",
            "|    D_Store|        Mostly clear|  REGULAR|\n",
            "|    G_Store|       Thunderstorms|  REGULAR|\n",
            "|    H_Store|               Sunny|  REGULAR|\n",
            "|    A_Store|       Partly cloudy|  REGULAR|\n",
            "|    A_Store|        Mostly sunny|  PREMIUM|\n",
            "|    C_Store|        Partly sunny|  REGULAR|\n",
            "|    J_Store|       Thunderstorms|  REGULAR|\n",
            "|    G_Store|               Clear|  REGULAR|\n",
            "|    I_Store|              Cloudy|  REGULAR|\n",
            "|    I_Store|               Sunny|  PREMIUM|\n",
            "|    F_Store|Mostly cloudy w t...|  PREMIUM|\n",
            "+-----------+--------------------+---------+\n",
            "only showing top 20 rows\n",
            "\n"
          ]
        }
      ]
    },
    {
      "cell_type": "code",
      "source": [
        "# Prepare Data for ML Model\n",
        "df_6850 = spark.sql('''\n",
        "    SELECT member_type, branch, age, gender, quantity, amount, card_type, weather_list, temperature_list, realfell_list\n",
        "    FROM df_2018_demo_view\n",
        "    WHERE product = 6850\n",
        "''')\n",
        "df_6850.show(5)"
      ],
      "metadata": {
        "colab": {
          "base_uri": "https://localhost:8080/"
        },
        "id": "S13UIrWrvS1u",
        "outputId": "af19a46b-645e-4ba6-9301-47d11932a4a4"
      },
      "execution_count": null,
      "outputs": [
        {
          "output_type": "stream",
          "name": "stdout",
          "text": [
            "+-----------+------+-----+------+--------+------+---------+--------------------+----------------+-------------+\n",
            "|member_type|branch|  age|gender|quantity|amount|card_type|        weather_list|temperature_list|realfell_list|\n",
            "+-----------+------+-----+------+--------+------+---------+--------------------+----------------+-------------+\n",
            "|     member|     I|50-55|  MALE|      12|  2800|  REGULAR|              Cloudy|              28|           32|\n",
            "|     member|     D|50-55|  MALE|      18|  2800|  REGULAR|        Partly sunny|              29|           33|\n",
            "|     member|     A|35-40|  MALE|       9|  2800|  REGULAR|Mostly cloudy w t...|              32|           36|\n",
            "|     member|     B|50-55|FEMALE|      16|  2800|  REGULAR|Mostly cloudy w s...|              33|           37|\n",
            "|     member|     E|50-55|FEMALE|      16|  2800|  REGULAR|              Cloudy|              32|           36|\n",
            "+-----------+------+-----+------+--------+------+---------+--------------------+----------------+-------------+\n",
            "only showing top 5 rows\n",
            "\n"
          ]
        }
      ]
    },
    {
      "cell_type": "code",
      "source": [
        "# Define the Target Variable\n",
        "from pyspark.sql.functions import lit\n",
        "\n",
        "# Buyers of Product 6850\n",
        "df_buyers = df_6850.withColumn(\"target\", lit(1))\n",
        "\n",
        "# Non-Buyers: Customers who bought gadgets but not 6850\n",
        "df_non_buyers = spark.sql('''\n",
        "    SELECT member_type, branch, age, gender, quantity, amount, card_type, weather_list, temperature_list, realfell_list\n",
        "    FROM df_2018_demo_view\n",
        "    WHERE category_name = 'GADGETS' AND product != 6850\n",
        "    LIMIT 500  -- Balance data by limiting non-buyers\n",
        "''').withColumn(\"target\", lit(0))\n",
        "\n",
        "# Combine both datasets\n",
        "df_final = df_buyers.union(df_non_buyers)\n",
        "df_final.show(10)"
      ],
      "metadata": {
        "colab": {
          "base_uri": "https://localhost:8080/"
        },
        "id": "O9Cas-1rvUlV",
        "outputId": "8514a5d8-b154-4b66-c978-30fe7ab39c19"
      },
      "execution_count": null,
      "outputs": [
        {
          "output_type": "stream",
          "name": "stdout",
          "text": [
            "+-----------+------+-----+------+--------+------+---------+--------------------+----------------+-------------+------+\n",
            "|member_type|branch|  age|gender|quantity|amount|card_type|        weather_list|temperature_list|realfell_list|target|\n",
            "+-----------+------+-----+------+--------+------+---------+--------------------+----------------+-------------+------+\n",
            "|     member|     I|50-55|  MALE|      12|  2800|  REGULAR|              Cloudy|              28|           32|     1|\n",
            "|     member|     D|50-55|  MALE|      18|  2800|  REGULAR|        Partly sunny|              29|           33|     1|\n",
            "|     member|     A|35-40|  MALE|       9|  2800|  REGULAR|Mostly cloudy w t...|              32|           36|     1|\n",
            "|     member|     B|50-55|FEMALE|      16|  2800|  REGULAR|Mostly cloudy w s...|              33|           37|     1|\n",
            "|     member|     E|50-55|FEMALE|      16|  2800|  REGULAR|              Cloudy|              32|           36|     1|\n",
            "|     member|     D|55-60|  MALE|      19|  2800|  REGULAR|        Mostly clear|              33|           37|     1|\n",
            "|     member|     I|45-50|  MALE|       9|  2800|  REGULAR|        Mostly clear|              19|           23|     1|\n",
            "|     member|     I|50-55|FEMALE|       2|  2800|  REGULAR|               Clear|              31|           35|     1|\n",
            "|     member|     E|25-30|FEMALE|      13|  2800|  PREMIUM|               Sunny|              21|           25|     1|\n",
            "|     member|     H|40-45|FEMALE|      15|  2800|  REGULAR|               Sunny|              20|           24|     1|\n",
            "+-----------+------+-----+------+--------+------+---------+--------------------+----------------+-------------+------+\n",
            "only showing top 10 rows\n",
            "\n"
          ]
        }
      ]
    },
    {
      "cell_type": "markdown",
      "source": [
        "# **II. Data - Descriptive Statistics**"
      ],
      "metadata": {
        "id": "GA0ztlNxa7kb"
      }
    },
    {
      "cell_type": "code",
      "source": [
        "# Convert to Pandas\n",
        "df_pandas = df_final.toPandas()\n",
        "\n",
        "# Summary Statistics\n",
        "df_pandas.describe()"
      ],
      "metadata": {
        "colab": {
          "base_uri": "https://localhost:8080/",
          "height": 300
        },
        "id": "SgqHpJRHvWgg",
        "outputId": "57e02022-889d-4c39-b26a-c2910ece637f"
      },
      "execution_count": null,
      "outputs": [
        {
          "output_type": "execute_result",
          "data": {
            "text/plain": [
              "         quantity       amount  temperature_list  realfell_list      target\n",
              "count  603.000000   603.000000        603.000000     603.000000  603.000000\n",
              "mean    10.187396  4586.733002         26.295191      30.295191    0.170813\n",
              "std      5.430905  2687.646732          5.247916       5.247916    0.376658\n",
              "min      1.000000   100.000000         18.000000      22.000000    0.000000\n",
              "25%      5.500000  2800.000000         22.000000      26.000000    0.000000\n",
              "50%     10.000000  3700.000000         27.000000      31.000000    0.000000\n",
              "75%     15.000000  6800.000000         31.000000      35.000000    0.000000\n",
              "max     19.000000  9900.000000         35.000000      39.000000    1.000000"
            ],
            "text/html": [
              "\n",
              "  <div id=\"df-08ae4dd4-2c34-4fb4-b2ee-3413e7638528\" class=\"colab-df-container\">\n",
              "    <div>\n",
              "<style scoped>\n",
              "    .dataframe tbody tr th:only-of-type {\n",
              "        vertical-align: middle;\n",
              "    }\n",
              "\n",
              "    .dataframe tbody tr th {\n",
              "        vertical-align: top;\n",
              "    }\n",
              "\n",
              "    .dataframe thead th {\n",
              "        text-align: right;\n",
              "    }\n",
              "</style>\n",
              "<table border=\"1\" class=\"dataframe\">\n",
              "  <thead>\n",
              "    <tr style=\"text-align: right;\">\n",
              "      <th></th>\n",
              "      <th>quantity</th>\n",
              "      <th>amount</th>\n",
              "      <th>temperature_list</th>\n",
              "      <th>realfell_list</th>\n",
              "      <th>target</th>\n",
              "    </tr>\n",
              "  </thead>\n",
              "  <tbody>\n",
              "    <tr>\n",
              "      <th>count</th>\n",
              "      <td>603.000000</td>\n",
              "      <td>603.000000</td>\n",
              "      <td>603.000000</td>\n",
              "      <td>603.000000</td>\n",
              "      <td>603.000000</td>\n",
              "    </tr>\n",
              "    <tr>\n",
              "      <th>mean</th>\n",
              "      <td>10.187396</td>\n",
              "      <td>4586.733002</td>\n",
              "      <td>26.295191</td>\n",
              "      <td>30.295191</td>\n",
              "      <td>0.170813</td>\n",
              "    </tr>\n",
              "    <tr>\n",
              "      <th>std</th>\n",
              "      <td>5.430905</td>\n",
              "      <td>2687.646732</td>\n",
              "      <td>5.247916</td>\n",
              "      <td>5.247916</td>\n",
              "      <td>0.376658</td>\n",
              "    </tr>\n",
              "    <tr>\n",
              "      <th>min</th>\n",
              "      <td>1.000000</td>\n",
              "      <td>100.000000</td>\n",
              "      <td>18.000000</td>\n",
              "      <td>22.000000</td>\n",
              "      <td>0.000000</td>\n",
              "    </tr>\n",
              "    <tr>\n",
              "      <th>25%</th>\n",
              "      <td>5.500000</td>\n",
              "      <td>2800.000000</td>\n",
              "      <td>22.000000</td>\n",
              "      <td>26.000000</td>\n",
              "      <td>0.000000</td>\n",
              "    </tr>\n",
              "    <tr>\n",
              "      <th>50%</th>\n",
              "      <td>10.000000</td>\n",
              "      <td>3700.000000</td>\n",
              "      <td>27.000000</td>\n",
              "      <td>31.000000</td>\n",
              "      <td>0.000000</td>\n",
              "    </tr>\n",
              "    <tr>\n",
              "      <th>75%</th>\n",
              "      <td>15.000000</td>\n",
              "      <td>6800.000000</td>\n",
              "      <td>31.000000</td>\n",
              "      <td>35.000000</td>\n",
              "      <td>0.000000</td>\n",
              "    </tr>\n",
              "    <tr>\n",
              "      <th>max</th>\n",
              "      <td>19.000000</td>\n",
              "      <td>9900.000000</td>\n",
              "      <td>35.000000</td>\n",
              "      <td>39.000000</td>\n",
              "      <td>1.000000</td>\n",
              "    </tr>\n",
              "  </tbody>\n",
              "</table>\n",
              "</div>\n",
              "    <div class=\"colab-df-buttons\">\n",
              "\n",
              "  <div class=\"colab-df-container\">\n",
              "    <button class=\"colab-df-convert\" onclick=\"convertToInteractive('df-08ae4dd4-2c34-4fb4-b2ee-3413e7638528')\"\n",
              "            title=\"Convert this dataframe to an interactive table.\"\n",
              "            style=\"display:none;\">\n",
              "\n",
              "  <svg xmlns=\"http://www.w3.org/2000/svg\" height=\"24px\" viewBox=\"0 -960 960 960\">\n",
              "    <path d=\"M120-120v-720h720v720H120Zm60-500h600v-160H180v160Zm220 220h160v-160H400v160Zm0 220h160v-160H400v160ZM180-400h160v-160H180v160Zm440 0h160v-160H620v160ZM180-180h160v-160H180v160Zm440 0h160v-160H620v160Z\"/>\n",
              "  </svg>\n",
              "    </button>\n",
              "\n",
              "  <style>\n",
              "    .colab-df-container {\n",
              "      display:flex;\n",
              "      gap: 12px;\n",
              "    }\n",
              "\n",
              "    .colab-df-convert {\n",
              "      background-color: #E8F0FE;\n",
              "      border: none;\n",
              "      border-radius: 50%;\n",
              "      cursor: pointer;\n",
              "      display: none;\n",
              "      fill: #1967D2;\n",
              "      height: 32px;\n",
              "      padding: 0 0 0 0;\n",
              "      width: 32px;\n",
              "    }\n",
              "\n",
              "    .colab-df-convert:hover {\n",
              "      background-color: #E2EBFA;\n",
              "      box-shadow: 0px 1px 2px rgba(60, 64, 67, 0.3), 0px 1px 3px 1px rgba(60, 64, 67, 0.15);\n",
              "      fill: #174EA6;\n",
              "    }\n",
              "\n",
              "    .colab-df-buttons div {\n",
              "      margin-bottom: 4px;\n",
              "    }\n",
              "\n",
              "    [theme=dark] .colab-df-convert {\n",
              "      background-color: #3B4455;\n",
              "      fill: #D2E3FC;\n",
              "    }\n",
              "\n",
              "    [theme=dark] .colab-df-convert:hover {\n",
              "      background-color: #434B5C;\n",
              "      box-shadow: 0px 1px 3px 1px rgba(0, 0, 0, 0.15);\n",
              "      filter: drop-shadow(0px 1px 2px rgba(0, 0, 0, 0.3));\n",
              "      fill: #FFFFFF;\n",
              "    }\n",
              "  </style>\n",
              "\n",
              "    <script>\n",
              "      const buttonEl =\n",
              "        document.querySelector('#df-08ae4dd4-2c34-4fb4-b2ee-3413e7638528 button.colab-df-convert');\n",
              "      buttonEl.style.display =\n",
              "        google.colab.kernel.accessAllowed ? 'block' : 'none';\n",
              "\n",
              "      async function convertToInteractive(key) {\n",
              "        const element = document.querySelector('#df-08ae4dd4-2c34-4fb4-b2ee-3413e7638528');\n",
              "        const dataTable =\n",
              "          await google.colab.kernel.invokeFunction('convertToInteractive',\n",
              "                                                    [key], {});\n",
              "        if (!dataTable) return;\n",
              "\n",
              "        const docLinkHtml = 'Like what you see? Visit the ' +\n",
              "          '<a target=\"_blank\" href=https://colab.research.google.com/notebooks/data_table.ipynb>data table notebook</a>'\n",
              "          + ' to learn more about interactive tables.';\n",
              "        element.innerHTML = '';\n",
              "        dataTable['output_type'] = 'display_data';\n",
              "        await google.colab.output.renderOutput(dataTable, element);\n",
              "        const docLink = document.createElement('div');\n",
              "        docLink.innerHTML = docLinkHtml;\n",
              "        element.appendChild(docLink);\n",
              "      }\n",
              "    </script>\n",
              "  </div>\n",
              "\n",
              "\n",
              "<div id=\"df-5dfb57f7-5628-42f5-a715-79965d25a2c5\">\n",
              "  <button class=\"colab-df-quickchart\" onclick=\"quickchart('df-5dfb57f7-5628-42f5-a715-79965d25a2c5')\"\n",
              "            title=\"Suggest charts\"\n",
              "            style=\"display:none;\">\n",
              "\n",
              "<svg xmlns=\"http://www.w3.org/2000/svg\" height=\"24px\"viewBox=\"0 0 24 24\"\n",
              "     width=\"24px\">\n",
              "    <g>\n",
              "        <path d=\"M19 3H5c-1.1 0-2 .9-2 2v14c0 1.1.9 2 2 2h14c1.1 0 2-.9 2-2V5c0-1.1-.9-2-2-2zM9 17H7v-7h2v7zm4 0h-2V7h2v10zm4 0h-2v-4h2v4z\"/>\n",
              "    </g>\n",
              "</svg>\n",
              "  </button>\n",
              "\n",
              "<style>\n",
              "  .colab-df-quickchart {\n",
              "      --bg-color: #E8F0FE;\n",
              "      --fill-color: #1967D2;\n",
              "      --hover-bg-color: #E2EBFA;\n",
              "      --hover-fill-color: #174EA6;\n",
              "      --disabled-fill-color: #AAA;\n",
              "      --disabled-bg-color: #DDD;\n",
              "  }\n",
              "\n",
              "  [theme=dark] .colab-df-quickchart {\n",
              "      --bg-color: #3B4455;\n",
              "      --fill-color: #D2E3FC;\n",
              "      --hover-bg-color: #434B5C;\n",
              "      --hover-fill-color: #FFFFFF;\n",
              "      --disabled-bg-color: #3B4455;\n",
              "      --disabled-fill-color: #666;\n",
              "  }\n",
              "\n",
              "  .colab-df-quickchart {\n",
              "    background-color: var(--bg-color);\n",
              "    border: none;\n",
              "    border-radius: 50%;\n",
              "    cursor: pointer;\n",
              "    display: none;\n",
              "    fill: var(--fill-color);\n",
              "    height: 32px;\n",
              "    padding: 0;\n",
              "    width: 32px;\n",
              "  }\n",
              "\n",
              "  .colab-df-quickchart:hover {\n",
              "    background-color: var(--hover-bg-color);\n",
              "    box-shadow: 0 1px 2px rgba(60, 64, 67, 0.3), 0 1px 3px 1px rgba(60, 64, 67, 0.15);\n",
              "    fill: var(--button-hover-fill-color);\n",
              "  }\n",
              "\n",
              "  .colab-df-quickchart-complete:disabled,\n",
              "  .colab-df-quickchart-complete:disabled:hover {\n",
              "    background-color: var(--disabled-bg-color);\n",
              "    fill: var(--disabled-fill-color);\n",
              "    box-shadow: none;\n",
              "  }\n",
              "\n",
              "  .colab-df-spinner {\n",
              "    border: 2px solid var(--fill-color);\n",
              "    border-color: transparent;\n",
              "    border-bottom-color: var(--fill-color);\n",
              "    animation:\n",
              "      spin 1s steps(1) infinite;\n",
              "  }\n",
              "\n",
              "  @keyframes spin {\n",
              "    0% {\n",
              "      border-color: transparent;\n",
              "      border-bottom-color: var(--fill-color);\n",
              "      border-left-color: var(--fill-color);\n",
              "    }\n",
              "    20% {\n",
              "      border-color: transparent;\n",
              "      border-left-color: var(--fill-color);\n",
              "      border-top-color: var(--fill-color);\n",
              "    }\n",
              "    30% {\n",
              "      border-color: transparent;\n",
              "      border-left-color: var(--fill-color);\n",
              "      border-top-color: var(--fill-color);\n",
              "      border-right-color: var(--fill-color);\n",
              "    }\n",
              "    40% {\n",
              "      border-color: transparent;\n",
              "      border-right-color: var(--fill-color);\n",
              "      border-top-color: var(--fill-color);\n",
              "    }\n",
              "    60% {\n",
              "      border-color: transparent;\n",
              "      border-right-color: var(--fill-color);\n",
              "    }\n",
              "    80% {\n",
              "      border-color: transparent;\n",
              "      border-right-color: var(--fill-color);\n",
              "      border-bottom-color: var(--fill-color);\n",
              "    }\n",
              "    90% {\n",
              "      border-color: transparent;\n",
              "      border-bottom-color: var(--fill-color);\n",
              "    }\n",
              "  }\n",
              "</style>\n",
              "\n",
              "  <script>\n",
              "    async function quickchart(key) {\n",
              "      const quickchartButtonEl =\n",
              "        document.querySelector('#' + key + ' button');\n",
              "      quickchartButtonEl.disabled = true;  // To prevent multiple clicks.\n",
              "      quickchartButtonEl.classList.add('colab-df-spinner');\n",
              "      try {\n",
              "        const charts = await google.colab.kernel.invokeFunction(\n",
              "            'suggestCharts', [key], {});\n",
              "      } catch (error) {\n",
              "        console.error('Error during call to suggestCharts:', error);\n",
              "      }\n",
              "      quickchartButtonEl.classList.remove('colab-df-spinner');\n",
              "      quickchartButtonEl.classList.add('colab-df-quickchart-complete');\n",
              "    }\n",
              "    (() => {\n",
              "      let quickchartButtonEl =\n",
              "        document.querySelector('#df-5dfb57f7-5628-42f5-a715-79965d25a2c5 button');\n",
              "      quickchartButtonEl.style.display =\n",
              "        google.colab.kernel.accessAllowed ? 'block' : 'none';\n",
              "    })();\n",
              "  </script>\n",
              "</div>\n",
              "\n",
              "    </div>\n",
              "  </div>\n"
            ],
            "application/vnd.google.colaboratory.intrinsic+json": {
              "type": "dataframe",
              "summary": "{\n  \"name\": \"df_pandas\",\n  \"rows\": 8,\n  \"fields\": [\n    {\n      \"column\": \"quantity\",\n      \"properties\": {\n        \"dtype\": \"number\",\n        \"std\": 209.93012959693266,\n        \"min\": 1.0,\n        \"max\": 603.0,\n        \"num_unique_values\": 8,\n        \"samples\": [\n          10.187396351575456,\n          10.0,\n          603.0\n        ],\n        \"semantic_type\": \"\",\n        \"description\": \"\"\n      }\n    },\n    {\n      \"column\": \"amount\",\n      \"properties\": {\n        \"dtype\": \"number\",\n        \"std\": 3227.3728303391586,\n        \"min\": 100.0,\n        \"max\": 9900.0,\n        \"num_unique_values\": 8,\n        \"samples\": [\n          4586.733001658375,\n          3700.0,\n          603.0\n        ],\n        \"semantic_type\": \"\",\n        \"description\": \"\"\n      }\n    },\n    {\n      \"column\": \"temperature_list\",\n      \"properties\": {\n        \"dtype\": \"number\",\n        \"std\": 205.08210030336198,\n        \"min\": 5.247916221975197,\n        \"max\": 603.0,\n        \"num_unique_values\": 8,\n        \"samples\": [\n          26.29519071310116,\n          27.0,\n          603.0\n        ],\n        \"semantic_type\": \"\",\n        \"description\": \"\"\n      }\n    },\n    {\n      \"column\": \"realfell_list\",\n      \"properties\": {\n        \"dtype\": \"number\",\n        \"std\": 203.92708008289975,\n        \"min\": 5.247916221975197,\n        \"max\": 603.0,\n        \"num_unique_values\": 8,\n        \"samples\": [\n          30.29519071310116,\n          31.0,\n          603.0\n        ],\n        \"semantic_type\": \"\",\n        \"description\": \"\"\n      }\n    },\n    {\n      \"column\": \"target\",\n      \"properties\": {\n        \"dtype\": \"number\",\n        \"std\": 213.1148133165243,\n        \"min\": 0.0,\n        \"max\": 603.0,\n        \"num_unique_values\": 5,\n        \"samples\": [\n          0.17081260364842454,\n          1.0,\n          0.3766575809177507\n        ],\n        \"semantic_type\": \"\",\n        \"description\": \"\"\n      }\n    }\n  ]\n}"
            }
          },
          "metadata": {},
          "execution_count": 18
        }
      ]
    },
    {
      "cell_type": "code",
      "source": [
        "# Buyers vs. Non-Buyers\n",
        "# Split into buyers and non-buyers\n",
        "buyers = df_pandas[df_pandas[\"target\"] == 1]\n",
        "non_buyers = df_pandas[df_pandas[\"target\"] == 0]\n",
        "\n",
        "# Compare statistics\n",
        "buyers.describe(), non_buyers.describe()"
      ],
      "metadata": {
        "colab": {
          "base_uri": "https://localhost:8080/"
        },
        "id": "y6vkBEKsvXxh",
        "outputId": "3c67a4c3-18fd-4118-8cc8-552da2ef83d5"
      },
      "execution_count": null,
      "outputs": [
        {
          "output_type": "execute_result",
          "data": {
            "text/plain": [
              "(         quantity  amount  temperature_list  realfell_list  target\n",
              " count  103.000000   103.0        103.000000     103.000000   103.0\n",
              " mean     9.640777  2800.0         26.223301      30.223301     1.0\n",
              " std      5.586844     0.0          5.426753       5.426753     0.0\n",
              " min      1.000000  2800.0         18.000000      22.000000     1.0\n",
              " 25%      5.000000  2800.0         22.000000      26.000000     1.0\n",
              " 50%     10.000000  2800.0         27.000000      31.000000     1.0\n",
              " 75%     15.000000  2800.0         31.000000      35.000000     1.0\n",
              " max     19.000000  2800.0         35.000000      39.000000     1.0,\n",
              "         quantity       amount  temperature_list  realfell_list  target\n",
              " count  500.00000   500.000000        500.000000     500.000000   500.0\n",
              " mean    10.30000  4954.800000         26.310000      30.310000     0.0\n",
              " std      5.39706  2814.206189          5.215775       5.215775     0.0\n",
              " min      1.00000   100.000000         18.000000      22.000000     0.0\n",
              " 25%      6.00000  2800.000000         22.000000      26.000000     0.0\n",
              " 50%     11.00000  4600.000000         27.000000      31.000000     0.0\n",
              " 75%     15.00000  7500.000000         31.000000      35.000000     0.0\n",
              " max     19.00000  9900.000000         35.000000      39.000000     0.0)"
            ]
          },
          "metadata": {},
          "execution_count": 19
        }
      ]
    },
    {
      "cell_type": "code",
      "source": [
        "# Age Distribution of Buyers vs Non-Buyers\n",
        "import seaborn as sns\n",
        "import matplotlib.pyplot as plt\n",
        "\n",
        "plt.figure(figsize=(8,5))\n",
        "sns.histplot(data=df_pandas, x=\"age\", hue=\"target\", kde=True, bins=15)\n",
        "plt.title(\"Age Distribution of Buyers vs Non-Buyers\")\n",
        "plt.xlabel(\"Age Group\")\n",
        "plt.ylabel(\"Frequency\")\n",
        "plt.legend([\"Non-Buyers\", \"Buyers\"])\n",
        "plt.show()"
      ],
      "metadata": {
        "colab": {
          "base_uri": "https://localhost:8080/",
          "height": 487
        },
        "id": "tk1oCSK_vZ61",
        "outputId": "57492d6c-a994-4500-8d26-4d050d5b6ba5"
      },
      "execution_count": null,
      "outputs": [
        {
          "output_type": "display_data",
          "data": {
            "text/plain": [
              "<Figure size 800x500 with 1 Axes>"
            ],
            "image/png": "[encoded data removed]"
          },
          "metadata": {}
        }
      ]
    },
    {
      "cell_type": "code",
      "source": [
        "# Transaction Amount Comparison\n",
        "plt.figure(figsize=(8,5))\n",
        "sns.boxplot(x=\"target\", y=\"amount\", data=df_pandas)\n",
        "plt.title(\"Transaction Amount: Buyers vs Non-Buyers\")\n",
        "plt.xlabel(\"Target (0 = Non-Buyer, 1 = Buyer)\")\n",
        "plt.ylabel(\"Amount Spent\")\n",
        "plt.show()"
      ],
      "metadata": {
        "colab": {
          "base_uri": "https://localhost:8080/",
          "height": 487
        },
        "id": "9LquXc5IvbLj",
        "outputId": "3114bd71-831e-4267-811b-d2943a2767f0"
      },
      "execution_count": null,
      "outputs": [
        {
          "output_type": "display_data",
          "data": {
            "text/plain": [
              "<Figure size 800x500 with 1 Axes>"
            ],
            "image/png": "[encoded data removed]"
          },
          "metadata": {}
        }
      ]
    },
    {
      "cell_type": "code",
      "source": [
        "# Gender Comparison\n",
        "plt.figure(figsize=(6,5))\n",
        "sns.countplot(x=\"gender\", hue=\"target\", data=df_pandas)\n",
        "plt.title(\"Gender Breakdown of Buyers vs Non-Buyers\")\n",
        "plt.xlabel(\"Gender\")\n",
        "plt.ylabel(\"Count\")\n",
        "plt.legend([\"Non-Buyers\", \"Buyers\"])\n",
        "plt.show()"
      ],
      "metadata": {
        "colab": {
          "base_uri": "https://localhost:8080/",
          "height": 487
        },
        "id": "zQOThIq9v3Sm",
        "outputId": "dacb22e3-23c4-4a9f-9c4a-e3c6029765f0"
      },
      "execution_count": null,
      "outputs": [
        {
          "output_type": "display_data",
          "data": {
            "text/plain": [
              "<Figure size 600x500 with 1 Axes>"
            ],
            "image/png": "[encoded data removed]"
          },
          "metadata": {}
        }
      ]
    },
    {
      "cell_type": "code",
      "source": [
        "# Impact of Weather on Buying Behavior\n",
        "plt.figure(figsize=(10,5))\n",
        "sns.countplot(y=\"weather_list\", hue=\"target\", data=df_pandas, order=df_pandas[\"weather_list\"].value_counts().index)\n",
        "plt.title(\"Impact of Weather on Buying Behavior\")\n",
        "plt.xlabel(\"Count\")\n",
        "plt.ylabel(\"Weather Condition\")\n",
        "plt.legend([\"Non-Buyers\", \"Buyers\"])\n",
        "plt.show()"
      ],
      "metadata": {
        "colab": {
          "base_uri": "https://localhost:8080/",
          "height": 487
        },
        "id": "GNK3nPtJv7RZ",
        "outputId": "dacc054c-5eb4-4aac-8606-5854f408ef1a"
      },
      "execution_count": null,
      "outputs": [
        {
          "output_type": "display_data",
          "data": {
            "text/plain": [
              "<Figure size 1000x500 with 1 Axes>"
            ],
            "image/png": "[encoded data removed]"
          },
          "metadata": {}
        }
      ]
    },
    {
      "cell_type": "code",
      "source": [
        "# Convert Categorical Features\n",
        "from pyspark.ml.feature import StringIndexer\n",
        "\n",
        "indexers = [\n",
        "    StringIndexer(inputCol=\"member_type\", outputCol=\"member_type_idx\"),\n",
        "    StringIndexer(inputCol=\"branch\", outputCol=\"branch_idx\"),\n",
        "    StringIndexer(inputCol=\"gender\", outputCol=\"gender_idx\"),\n",
        "    StringIndexer(inputCol=\"card_type\", outputCol=\"card_type_idx\"),\n",
        "    StringIndexer(inputCol=\"weather_list\", outputCol=\"weather_idx\")\n",
        "]"
      ],
      "metadata": {
        "id": "qgNPDaz2wrE5"
      },
      "execution_count": null,
      "outputs": []
    },
    {
      "cell_type": "code",
      "source": [
        "# Convert Age to Numeric\n",
        "from pyspark.sql.functions import col, when\n",
        "\n",
        "df_final = df_final.withColumn(\n",
        "    \"age\",\n",
        "    when(col(\"age\") == \"18-25\", 1)\n",
        "    .when(col(\"age\") == \"25-30\", 2)\n",
        "    .when(col(\"age\") == \"30-35\", 3)\n",
        "    .when(col(\"age\") == \"35-40\", 4)\n",
        "    .when(col(\"age\") == \"40-45\", 5)\n",
        "    .when(col(\"age\") == \"45-50\", 6)\n",
        "    .when(col(\"age\") == \"50-55\", 7)\n",
        "    .when(col(\"age\") == \"55-60\", 8)\n",
        "    .otherwise(9)\n",
        ")"
      ],
      "metadata": {
        "id": "E05JPYMOwr5e"
      },
      "execution_count": null,
      "outputs": []
    },
    {
      "cell_type": "code",
      "source": [
        "# Vector Assembler\n",
        "from pyspark.ml.feature import VectorAssembler\n",
        "\n",
        "feature_cols = [\"member_type_idx\", \"branch_idx\", \"age\", \"gender_idx\", \"quantity\", \"amount\",\n",
        "                \"card_type_idx\", \"weather_idx\", \"temperature_list\", \"realfell_list\"]\n",
        "\n",
        "assembler = VectorAssembler(inputCols=feature_cols, outputCol=\"features\")"
      ],
      "metadata": {
        "id": "8J3_LO5Bw4Xs"
      },
      "execution_count": null,
      "outputs": []
    },
    {
      "cell_type": "markdown",
      "source": [
        "# **III. Model Training**"
      ],
      "metadata": {
        "id": "Iu1geHwoebtx"
      }
    },
    {
      "cell_type": "code",
      "source": [
        "from pyspark.ml.classification import RandomForestClassifier\n",
        "from pyspark.ml import Pipeline\n",
        "\n",
        "rf = RandomForestClassifier(featuresCol=\"features\", labelCol=\"target\", numTrees=50)\n",
        "\n",
        "# Create Pipeline\n",
        "pipeline = Pipeline(stages=indexers + [assembler, rf])\n",
        "\n",
        "# Train-Test Split\n",
        "train_data, test_data = df_final.randomSplit([0.8, 0.2], seed=42)\n",
        "\n",
        "# Train Model\n",
        "model = pipeline.fit(train_data)\n",
        "\n",
        "# Predictions\n",
        "predictions = model.transform(test_data)\n",
        "predictions.select(\"target\", \"prediction\", \"probability\").show(10)"
      ],
      "metadata": {
        "colab": {
          "base_uri": "https://localhost:8080/"
        },
        "id": "RFNCAVWqw-JD",
        "outputId": "9401f7ba-6f83-4663-ee68-6f7a37673dda"
      },
      "execution_count": null,
      "outputs": [
        {
          "output_type": "stream",
          "name": "stdout",
          "text": [
            "+------+----------+--------------------+\n",
            "|target|prediction|         probability|\n",
            "+------+----------+--------------------+\n",
            "|     1|       1.0|[0.34218463777810...|\n",
            "|     1|       1.0|[0.39314649434174...|\n",
            "|     1|       1.0|[0.35386921502400...|\n",
            "|     1|       1.0|[0.25629097368401...|\n",
            "|     1|       1.0|[0.49269083988624...|\n",
            "|     1|       1.0|[0.42562920455818...|\n",
            "|     1|       1.0|[0.39645561748926...|\n",
            "|     1|       1.0|[0.36578389857118...|\n",
            "|     1|       1.0|[0.24260468245727...|\n",
            "|     1|       1.0|[0.26488651400613...|\n",
            "+------+----------+--------------------+\n",
            "only showing top 10 rows\n",
            "\n"
          ]
        }
      ]
    },
    {
      "cell_type": "code",
      "source": [
        "# Evaluate Model Performance\n",
        "from pyspark.ml.evaluation import BinaryClassificationEvaluator\n",
        "\n",
        "# ROC-AUC Score\n",
        "evaluator = BinaryClassificationEvaluator(labelCol=\"target\", metricName=\"areaUnderROC\")\n",
        "roc_auc = evaluator.evaluate(predictions)\n",
        "\n",
        "print(f\"ROC-AUC Score: {roc_auc}\")\n",
        "\n",
        "# Confusion Matrix\n",
        "predictions.groupBy(\"target\", \"prediction\").count().show()"
      ],
      "metadata": {
        "colab": {
          "base_uri": "https://localhost:8080/"
        },
        "id": "VNxnx3aAxBz1",
        "outputId": "5be6006d-2d43-415d-a069-c0fde3251a8c"
      },
      "execution_count": null,
      "outputs": [
        {
          "output_type": "stream",
          "name": "stdout",
          "text": [
            "ROC-AUC Score: 0.992283950617284\n",
            "+------+----------+-----+\n",
            "|target|prediction|count|\n",
            "+------+----------+-----+\n",
            "|     1|       1.0|   18|\n",
            "|     0|       0.0|  106|\n",
            "|     0|       1.0|    2|\n",
            "+------+----------+-----+\n",
            "\n"
          ]
        }
      ]
    },
    {
      "cell_type": "code",
      "source": [
        "# Precision, Recall, and Accuracy\n",
        "from pyspark.sql.functions import col\n",
        "\n",
        "# Compute counts from confusion matrix\n",
        "TP = predictions.filter((col(\"target\") == 1) & (col(\"prediction\") == 1)).count()  # True Positives\n",
        "TN = predictions.filter((col(\"target\") == 0) & (col(\"prediction\") == 0)).count()  # True Negatives\n",
        "FP = predictions.filter((col(\"target\") == 0) & (col(\"prediction\") == 1)).count()  # False Positives\n",
        "FN = predictions.filter((col(\"target\") == 1) & (col(\"prediction\") == 0)).count()  # False Negatives\n",
        "\n",
        "# Calculate metrics\n",
        "accuracy = (TP + TN) / (TP + TN + FP + FN)\n",
        "precision = TP / (TP + FP) if (TP + FP) > 0 else 0\n",
        "recall = TP / (TP + FN) if (TP + FN) > 0 else 0\n",
        "\n",
        "print(f\"Accuracy: {accuracy:.4f}\")\n",
        "print(f\"Precision: {precision:.4f}\")\n",
        "print(f\"Recall: {recall:.4f}\")"
      ],
      "metadata": {
        "colab": {
          "base_uri": "https://localhost:8080/"
        },
        "id": "voRB5mqbya1y",
        "outputId": "4b64761d-89b6-4695-ed24-d23dd9dae658"
      },
      "execution_count": null,
      "outputs": [
        {
          "output_type": "stream",
          "name": "stdout",
          "text": [
            "Accuracy: 0.9841\n",
            "Precision: 0.9000\n",
            "Recall: 1.0000\n"
          ]
        }
      ]
    },
    {
      "cell_type": "code",
      "source": [
        "# Confusion Matrix\n",
        "from pyspark.sql.functions import col\n",
        "\n",
        "# Compute counts from confusion matrix\n",
        "TP = predictions.filter((col(\"target\") == 1) & (col(\"prediction\") == 1)).count()  # True Positives\n",
        "TN = predictions.filter((col(\"target\") == 0) & (col(\"prediction\") == 0)).count()  # True Negatives\n",
        "FP = predictions.filter((col(\"target\") == 0) & (col(\"prediction\") == 1)).count()  # False Positives\n",
        "FN = predictions.filter((col(\"target\") == 1) & (col(\"prediction\") == 0)).count()  # False Negatives\n",
        "\n",
        "print(f\"True Positives (TP): {TP}\")\n",
        "print(f\"True Negatives (TN): {TN}\")\n",
        "print(f\"False Positives (FP): {FP}\")\n",
        "print(f\"False Negatives (FN): {FN}\")"
      ],
      "metadata": {
        "colab": {
          "base_uri": "https://localhost:8080/"
        },
        "id": "4fSWpr9xzLcl",
        "outputId": "3ed1f318-dfb9-4a38-b752-8765865d0d83"
      },
      "execution_count": null,
      "outputs": [
        {
          "output_type": "stream",
          "name": "stdout",
          "text": [
            "True Positives (TP): 18\n",
            "True Negatives (TN): 106\n",
            "False Positives (FP): 2\n",
            "False Negatives (FN): 0\n"
          ]
        }
      ]
    },
    {
      "cell_type": "code",
      "source": [
        "import pandas as pd\n",
        "\n",
        "# Create confusion matrix DataFrame\n",
        "conf_matrix = pd.DataFrame([[TP, FN], [FP, TN]],\n",
        "                           columns=[\"Actual: Yes\", \"Actual: No\"],\n",
        "                           index=[\"Predicted: Yes\", \"Predicted: No\"])\n",
        "print(conf_matrix)"
      ],
      "metadata": {
        "colab": {
          "base_uri": "https://localhost:8080/"
        },
        "id": "CyYPUTepzQoy",
        "outputId": "14a7ae87-f198-4dac-b1d4-c6279d01eabf"
      },
      "execution_count": null,
      "outputs": [
        {
          "output_type": "stream",
          "name": "stdout",
          "text": [
            "                Actual: Yes  Actual: No\n",
            "Predicted: Yes           18           0\n",
            "Predicted: No             2         106\n"
          ]
        }
      ]
    },
    {
      "cell_type": "code",
      "source": [
        "import seaborn as sns\n",
        "import matplotlib.pyplot as plt\n",
        "\n",
        "plt.figure(figsize=(5,4))\n",
        "sns.heatmap(conf_matrix, annot=True, fmt=\"d\", cmap=\"Blues\")\n",
        "plt.title(\"Confusion Matrix\")\n",
        "plt.xlabel(\"Actual Label\")\n",
        "plt.ylabel(\"Predicted Label\")\n",
        "plt.show()"
      ],
      "metadata": {
        "colab": {
          "base_uri": "https://localhost:8080/",
          "height": 410
        },
        "id": "JxsH29a8zR1c",
        "outputId": "b0a2d716-fd61-4fa0-d6a9-a6d56df8eb05"
      },
      "execution_count": null,
      "outputs": [
        {
          "output_type": "display_data",
          "data": {
            "text/plain": [
              "<Figure size 500x400 with 2 Axes>"
            ],
            "image/png": "[encoded data removed]"
          },
          "metadata": {}
        }
      ]
    },
    {
      "cell_type": "markdown",
      "source": [
        "**Out-of-Time (OOT) Testing**"
      ],
      "metadata": {
        "id": "s7qyEWiN0DDo"
      }
    },
    {
      "cell_type": "code",
      "source": [
        "prefix_name=\"aggregated_3_months\"\n",
        "\n",
        "model_name = f\"6850_prediction_{get_datetime()}_{prefix_name}\"\n",
        "print(f\"{model_name}\")"
      ],
      "metadata": {
        "colab": {
          "base_uri": "https://localhost:8080/"
        },
        "id": "Mvf-r4sh8sPD",
        "outputId": "4a0445e4-28c9-4b9b-8616-320304dc2b7a"
      },
      "execution_count": null,
      "outputs": [
        {
          "output_type": "stream",
          "name": "stdout",
          "text": [
            "20250329_0336\n",
            "6850_prediction_20250329_0336_aggregated_3_months\n"
          ]
        }
      ]
    },
    {
      "cell_type": "code",
      "source": [
        "# Define model save path\n",
        "model_path = f\"{home_dir}/models/{model_name}\"\n",
        "\n",
        "# Save the trained pipeline model using Spark's built-in method\n",
        "model.write().overwrite().save(model_path)\n",
        "\n",
        "print(f\"Model saved at: {model_path}\")"
      ],
      "metadata": {
        "colab": {
          "base_uri": "https://localhost:8080/"
        },
        "id": "PdXGY1zl9WHO",
        "outputId": "d458fd2a-4a75-4f16-f011-b6c7a5d80b57"
      },
      "execution_count": null,
      "outputs": [
        {
          "output_type": "stream",
          "name": "stdout",
          "text": [
            "Model saved at: /content/drive/MyDrive/ TERM 7/MACHINE/churn_prediction/models/6850_prediction_20250329_0336_aggregated_3_months\n"
          ]
        }
      ]
    },
    {
      "cell_type": "code",
      "source": [
        "from pyspark.ml import PipelineModel\n",
        "\n",
        "# Load the model\n",
        "loaded_model = PipelineModel.load(model_path)\n",
        "\n",
        "print(\"Model successfully loaded!\")"
      ],
      "metadata": {
        "colab": {
          "base_uri": "https://localhost:8080/"
        },
        "id": "m2Gke06d9pJg",
        "outputId": "cf3ca8c7-95a6-4dc7-f400-390fed02b21c"
      },
      "execution_count": null,
      "outputs": [
        {
          "output_type": "stream",
          "name": "stdout",
          "text": [
            "Model successfully loaded!\n"
          ]
        }
      ]
    },
    {
      "cell_type": "code",
      "source": [
        "import pandas as pd\n",
        "import numpy as np\n",
        "\n",
        "# Define the number of synthetic transactions\n",
        "num_samples = 500\n",
        "\n",
        "# Generate synthetic transaction dates in 2020\n",
        "transaction_dates = pd.date_range(start=\"2020-01-01\", end=\"2020-12-31\", periods=num_samples).strftime('%Y-%m-%d')\n",
        "\n",
        "# Member type distribution (similar to past data)\n",
        "member_types = np.random.choice([\"member\", \"non-member\"], size=num_samples, p=[0.8, 0.2])\n",
        "\n",
        "# Branches (randomly selecting from A to J)\n",
        "branches = np.random.choice(list(\"ABCDEFGHIJ\"), size=num_samples)\n",
        "\n",
        "# Age groups distribution\n",
        "age_groups = np.random.choice([\"18-25\", \"25-30\", \"30-35\", \"35-40\", \"40-45\", \"45-50\", \"50-55\", \"55-60\", \"60 Above\"],\n",
        "                              size=num_samples, p=[0.1, 0.1, 0.1, 0.1, 0.1, 0.15, 0.15, 0.1, 0.1])\n",
        "\n",
        "# Gender distribution\n",
        "genders = np.random.choice([\"MALE\", \"FEMALE\"], size=num_samples, p=[0.45, 0.55])\n",
        "\n",
        "# Product quantity and amount (similar to previous statistics)\n",
        "quantities = np.random.randint(1, 20, size=num_samples)\n",
        "amounts = np.random.choice([100, 2800, 3700, 4600, 6800, 7500, 9900], size=num_samples)\n",
        "\n",
        "# Card type distribution\n",
        "card_types = np.random.choice([\"REGULAR\", \"PREMIUM\"], size=num_samples, p=[0.75, 0.25])\n",
        "\n",
        "# Weather conditions\n",
        "weather_conditions = np.random.choice([\"Sunny\", \"Cloudy\", \"Rain\", \"Thunderstorms\", \"Partly cloudy\", \"Mostly clear\"],\n",
        "                                      size=num_samples)\n",
        "\n",
        "# Temperature and real-feel temperatures (normal distribution based on past stats)\n",
        "temperature_list = np.random.normal(loc=26, scale=5, size=num_samples).astype(int)\n",
        "realfeel_list = temperature_list + np.random.randint(-3, 3, size=num_samples)\n",
        "\n",
        "# Create DataFrame\n",
        "oot_data = pd.DataFrame({\n",
        "    \"transaction_date\": transaction_dates,\n",
        "    \"member_type\": member_types,\n",
        "    \"branch\": branches,\n",
        "    \"age\": age_groups,\n",
        "    \"gender\": genders,\n",
        "    \"quantity\": quantities,\n",
        "    \"amount\": amounts,\n",
        "    \"card_type\": card_types,\n",
        "    \"weather_list\": weather_conditions,\n",
        "    \"temperature_list\": temperature_list,\n",
        "    \"realfell_list\": realfeel_list\n",
        "})\n",
        "\n",
        "# Display first few rows\n",
        "oot_data.head()"
      ],
      "metadata": {
        "colab": {
          "base_uri": "https://localhost:8080/",
          "height": 206
        },
        "id": "M8pG4MrGYoNa",
        "outputId": "0acacd34-4c98-4c02-a05d-6b6a351b69c8"
      },
      "execution_count": null,
      "outputs": [
        {
          "output_type": "execute_result",
          "data": {
            "text/plain": [
              "  transaction_date member_type branch       age  gender  quantity  amount  \\\n",
              "0       2020-01-01      member      I     35-40    MALE        18    4600   \n",
              "1       2020-01-01      member      B     55-60  FEMALE        13     100   \n",
              "2       2020-01-02      member      J  60 Above    MALE        14     100   \n",
              "3       2020-01-03      member      G     45-50  FEMALE         6    2800   \n",
              "4       2020-01-03      member      I     18-25  FEMALE         8    3700   \n",
              "\n",
              "  card_type   weather_list  temperature_list  realfell_list  \n",
              "0   REGULAR         Cloudy                25             27  \n",
              "1   PREMIUM          Sunny                32             30  \n",
              "2   REGULAR           Rain                22             22  \n",
              "3   PREMIUM  Thunderstorms                30             27  \n",
              "4   REGULAR  Partly cloudy                27             24  "
            ],
            "text/html": [
              "\n",
              "  <div id=\"df-2760d594-3d5d-43c6-9e83-277377622cde\" class=\"colab-df-container\">\n",
              "    <div>\n",
              "<style scoped>\n",
              "    .dataframe tbody tr th:only-of-type {\n",
              "        vertical-align: middle;\n",
              "    }\n",
              "\n",
              "    .dataframe tbody tr th {\n",
              "        vertical-align: top;\n",
              "    }\n",
              "\n",
              "    .dataframe thead th {\n",
              "        text-align: right;\n",
              "    }\n",
              "</style>\n",
              "<table border=\"1\" class=\"dataframe\">\n",
              "  <thead>\n",
              "    <tr style=\"text-align: right;\">\n",
              "      <th></th>\n",
              "      <th>transaction_date</th>\n",
              "      <th>member_type</th>\n",
              "      <th>branch</th>\n",
              "      <th>age</th>\n",
              "      <th>gender</th>\n",
              "      <th>quantity</th>\n",
              "      <th>amount</th>\n",
              "      <th>card_type</th>\n",
              "      <th>weather_list</th>\n",
              "      <th>temperature_list</th>\n",
              "      <th>realfell_list</th>\n",
              "    </tr>\n",
              "  </thead>\n",
              "  <tbody>\n",
              "    <tr>\n",
              "      <th>0</th>\n",
              "      <td>2020-01-01</td>\n",
              "      <td>member</td>\n",
              "      <td>I</td>\n",
              "      <td>35-40</td>\n",
              "      <td>MALE</td>\n",
              "      <td>18</td>\n",
              "      <td>4600</td>\n",
              "      <td>REGULAR</td>\n",
              "      <td>Cloudy</td>\n",
              "      <td>25</td>\n",
              "      <td>27</td>\n",
              "    </tr>\n",
              "    <tr>\n",
              "      <th>1</th>\n",
              "      <td>2020-01-01</td>\n",
              "      <td>member</td>\n",
              "      <td>B</td>\n",
              "      <td>55-60</td>\n",
              "      <td>FEMALE</td>\n",
              "      <td>13</td>\n",
              "      <td>100</td>\n",
              "      <td>PREMIUM</td>\n",
              "      <td>Sunny</td>\n",
              "      <td>32</td>\n",
              "      <td>30</td>\n",
              "    </tr>\n",
              "    <tr>\n",
              "      <th>2</th>\n",
              "      <td>2020-01-02</td>\n",
              "      <td>member</td>\n",
              "      <td>J</td>\n",
              "      <td>60 Above</td>\n",
              "      <td>MALE</td>\n",
              "      <td>14</td>\n",
              "      <td>100</td>\n",
              "      <td>REGULAR</td>\n",
              "      <td>Rain</td>\n",
              "      <td>22</td>\n",
              "      <td>22</td>\n",
              "    </tr>\n",
              "    <tr>\n",
              "      <th>3</th>\n",
              "      <td>2020-01-03</td>\n",
              "      <td>member</td>\n",
              "      <td>G</td>\n",
              "      <td>45-50</td>\n",
              "      <td>FEMALE</td>\n",
              "      <td>6</td>\n",
              "      <td>2800</td>\n",
              "      <td>PREMIUM</td>\n",
              "      <td>Thunderstorms</td>\n",
              "      <td>30</td>\n",
              "      <td>27</td>\n",
              "    </tr>\n",
              "    <tr>\n",
              "      <th>4</th>\n",
              "      <td>2020-01-03</td>\n",
              "      <td>member</td>\n",
              "      <td>I</td>\n",
              "      <td>18-25</td>\n",
              "      <td>FEMALE</td>\n",
              "      <td>8</td>\n",
              "      <td>3700</td>\n",
              "      <td>REGULAR</td>\n",
              "      <td>Partly cloudy</td>\n",
              "      <td>27</td>\n",
              "      <td>24</td>\n",
              "    </tr>\n",
              "  </tbody>\n",
              "</table>\n",
              "</div>\n",
              "    <div class=\"colab-df-buttons\">\n",
              "\n",
              "  <div class=\"colab-df-container\">\n",
              "    <button class=\"colab-df-convert\" onclick=\"convertToInteractive('df-2760d594-3d5d-43c6-9e83-277377622cde')\"\n",
              "            title=\"Convert this dataframe to an interactive table.\"\n",
              "            style=\"display:none;\">\n",
              "\n",
              "  <svg xmlns=\"http://www.w3.org/2000/svg\" height=\"24px\" viewBox=\"0 -960 960 960\">\n",
              "    <path d=\"M120-120v-720h720v720H120Zm60-500h600v-160H180v160Zm220 220h160v-160H400v160Zm0 220h160v-160H400v160ZM180-400h160v-160H180v160Zm440 0h160v-160H620v160ZM180-180h160v-160H180v160Zm440 0h160v-160H620v160Z\"/>\n",
              "  </svg>\n",
              "    </button>\n",
              "\n",
              "  <style>\n",
              "    .colab-df-container {\n",
              "      display:flex;\n",
              "      gap: 12px;\n",
              "    }\n",
              "\n",
              "    .colab-df-convert {\n",
              "      background-color: #E8F0FE;\n",
              "      border: none;\n",
              "      border-radius: 50%;\n",
              "      cursor: pointer;\n",
              "      display: none;\n",
              "      fill: #1967D2;\n",
              "      height: 32px;\n",
              "      padding: 0 0 0 0;\n",
              "      width: 32px;\n",
              "    }\n",
              "\n",
              "    .colab-df-convert:hover {\n",
              "      background-color: #E2EBFA;\n",
              "      box-shadow: 0px 1px 2px rgba(60, 64, 67, 0.3), 0px 1px 3px 1px rgba(60, 64, 67, 0.15);\n",
              "      fill: #174EA6;\n",
              "    }\n",
              "\n",
              "    .colab-df-buttons div {\n",
              "      margin-bottom: 4px;\n",
              "    }\n",
              "\n",
              "    [theme=dark] .colab-df-convert {\n",
              "      background-color: #3B4455;\n",
              "      fill: #D2E3FC;\n",
              "    }\n",
              "\n",
              "    [theme=dark] .colab-df-convert:hover {\n",
              "      background-color: #434B5C;\n",
              "      box-shadow: 0px 1px 3px 1px rgba(0, 0, 0, 0.15);\n",
              "      filter: drop-shadow(0px 1px 2px rgba(0, 0, 0, 0.3));\n",
              "      fill: #FFFFFF;\n",
              "    }\n",
              "  </style>\n",
              "\n",
              "    <script>\n",
              "      const buttonEl =\n",
              "        document.querySelector('#df-2760d594-3d5d-43c6-9e83-277377622cde button.colab-df-convert');\n",
              "      buttonEl.style.display =\n",
              "        google.colab.kernel.accessAllowed ? 'block' : 'none';\n",
              "\n",
              "      async function convertToInteractive(key) {\n",
              "        const element = document.querySelector('#df-2760d594-3d5d-43c6-9e83-277377622cde');\n",
              "        const dataTable =\n",
              "          await google.colab.kernel.invokeFunction('convertToInteractive',\n",
              "                                                    [key], {});\n",
              "        if (!dataTable) return;\n",
              "\n",
              "        const docLinkHtml = 'Like what you see? Visit the ' +\n",
              "          '<a target=\"_blank\" href=https://colab.research.google.com/notebooks/data_table.ipynb>data table notebook</a>'\n",
              "          + ' to learn more about interactive tables.';\n",
              "        element.innerHTML = '';\n",
              "        dataTable['output_type'] = 'display_data';\n",
              "        await google.colab.output.renderOutput(dataTable, element);\n",
              "        const docLink = document.createElement('div');\n",
              "        docLink.innerHTML = docLinkHtml;\n",
              "        element.appendChild(docLink);\n",
              "      }\n",
              "    </script>\n",
              "  </div>\n",
              "\n",
              "\n",
              "<div id=\"df-0eee29b2-570b-4c38-b1f2-9a70a8ed9dc2\">\n",
              "  <button class=\"colab-df-quickchart\" onclick=\"quickchart('df-0eee29b2-570b-4c38-b1f2-9a70a8ed9dc2')\"\n",
              "            title=\"Suggest charts\"\n",
              "            style=\"display:none;\">\n",
              "\n",
              "<svg xmlns=\"http://www.w3.org/2000/svg\" height=\"24px\"viewBox=\"0 0 24 24\"\n",
              "     width=\"24px\">\n",
              "    <g>\n",
              "        <path d=\"M19 3H5c-1.1 0-2 .9-2 2v14c0 1.1.9 2 2 2h14c1.1 0 2-.9 2-2V5c0-1.1-.9-2-2-2zM9 17H7v-7h2v7zm4 0h-2V7h2v10zm4 0h-2v-4h2v4z\"/>\n",
              "    </g>\n",
              "</svg>\n",
              "  </button>\n",
              "\n",
              "<style>\n",
              "  .colab-df-quickchart {\n",
              "      --bg-color: #E8F0FE;\n",
              "      --fill-color: #1967D2;\n",
              "      --hover-bg-color: #E2EBFA;\n",
              "      --hover-fill-color: #174EA6;\n",
              "      --disabled-fill-color: #AAA;\n",
              "      --disabled-bg-color: #DDD;\n",
              "  }\n",
              "\n",
              "  [theme=dark] .colab-df-quickchart {\n",
              "      --bg-color: #3B4455;\n",
              "      --fill-color: #D2E3FC;\n",
              "      --hover-bg-color: #434B5C;\n",
              "      --hover-fill-color: #FFFFFF;\n",
              "      --disabled-bg-color: #3B4455;\n",
              "      --disabled-fill-color: #666;\n",
              "  }\n",
              "\n",
              "  .colab-df-quickchart {\n",
              "    background-color: var(--bg-color);\n",
              "    border: none;\n",
              "    border-radius: 50%;\n",
              "    cursor: pointer;\n",
              "    display: none;\n",
              "    fill: var(--fill-color);\n",
              "    height: 32px;\n",
              "    padding: 0;\n",
              "    width: 32px;\n",
              "  }\n",
              "\n",
              "  .colab-df-quickchart:hover {\n",
              "    background-color: var(--hover-bg-color);\n",
              "    box-shadow: 0 1px 2px rgba(60, 64, 67, 0.3), 0 1px 3px 1px rgba(60, 64, 67, 0.15);\n",
              "    fill: var(--button-hover-fill-color);\n",
              "  }\n",
              "\n",
              "  .colab-df-quickchart-complete:disabled,\n",
              "  .colab-df-quickchart-complete:disabled:hover {\n",
              "    background-color: var(--disabled-bg-color);\n",
              "    fill: var(--disabled-fill-color);\n",
              "    box-shadow: none;\n",
              "  }\n",
              "\n",
              "  .colab-df-spinner {\n",
              "    border: 2px solid var(--fill-color);\n",
              "    border-color: transparent;\n",
              "    border-bottom-color: var(--fill-color);\n",
              "    animation:\n",
              "      spin 1s steps(1) infinite;\n",
              "  }\n",
              "\n",
              "  @keyframes spin {\n",
              "    0% {\n",
              "      border-color: transparent;\n",
              "      border-bottom-color: var(--fill-color);\n",
              "      border-left-color: var(--fill-color);\n",
              "    }\n",
              "    20% {\n",
              "      border-color: transparent;\n",
              "      border-left-color: var(--fill-color);\n",
              "      border-top-color: var(--fill-color);\n",
              "    }\n",
              "    30% {\n",
              "      border-color: transparent;\n",
              "      border-left-color: var(--fill-color);\n",
              "      border-top-color: var(--fill-color);\n",
              "      border-right-color: var(--fill-color);\n",
              "    }\n",
              "    40% {\n",
              "      border-color: transparent;\n",
              "      border-right-color: var(--fill-color);\n",
              "      border-top-color: var(--fill-color);\n",
              "    }\n",
              "    60% {\n",
              "      border-color: transparent;\n",
              "      border-right-color: var(--fill-color);\n",
              "    }\n",
              "    80% {\n",
              "      border-color: transparent;\n",
              "      border-right-color: var(--fill-color);\n",
              "      border-bottom-color: var(--fill-color);\n",
              "    }\n",
              "    90% {\n",
              "      border-color: transparent;\n",
              "      border-bottom-color: var(--fill-color);\n",
              "    }\n",
              "  }\n",
              "</style>\n",
              "\n",
              "  <script>\n",
              "    async function quickchart(key) {\n",
              "      const quickchartButtonEl =\n",
              "        document.querySelector('#' + key + ' button');\n",
              "      quickchartButtonEl.disabled = true;  // To prevent multiple clicks.\n",
              "      quickchartButtonEl.classList.add('colab-df-spinner');\n",
              "      try {\n",
              "        const charts = await google.colab.kernel.invokeFunction(\n",
              "            'suggestCharts', [key], {});\n",
              "      } catch (error) {\n",
              "        console.error('Error during call to suggestCharts:', error);\n",
              "      }\n",
              "      quickchartButtonEl.classList.remove('colab-df-spinner');\n",
              "      quickchartButtonEl.classList.add('colab-df-quickchart-complete');\n",
              "    }\n",
              "    (() => {\n",
              "      let quickchartButtonEl =\n",
              "        document.querySelector('#df-0eee29b2-570b-4c38-b1f2-9a70a8ed9dc2 button');\n",
              "      quickchartButtonEl.style.display =\n",
              "        google.colab.kernel.accessAllowed ? 'block' : 'none';\n",
              "    })();\n",
              "  </script>\n",
              "</div>\n",
              "\n",
              "    </div>\n",
              "  </div>\n"
            ],
            "application/vnd.google.colaboratory.intrinsic+json": {
              "type": "dataframe",
              "variable_name": "oot_data",
              "summary": "{\n  \"name\": \"oot_data\",\n  \"rows\": 500,\n  \"fields\": [\n    {\n      \"column\": \"transaction_date\",\n      \"properties\": {\n        \"dtype\": \"object\",\n        \"num_unique_values\": 366,\n        \"samples\": [\n          \"2020-07-12\",\n          \"2020-02-03\",\n          \"2020-01-16\"\n        ],\n        \"semantic_type\": \"\",\n        \"description\": \"\"\n      }\n    },\n    {\n      \"column\": \"member_type\",\n      \"properties\": {\n        \"dtype\": \"category\",\n        \"num_unique_values\": 2,\n        \"samples\": [\n          \"non-member\",\n          \"member\"\n        ],\n        \"semantic_type\": \"\",\n        \"description\": \"\"\n      }\n    },\n    {\n      \"column\": \"branch\",\n      \"properties\": {\n        \"dtype\": \"category\",\n        \"num_unique_values\": 10,\n        \"samples\": [\n          \"A\",\n          \"B\"\n        ],\n        \"semantic_type\": \"\",\n        \"description\": \"\"\n      }\n    },\n    {\n      \"column\": \"age\",\n      \"properties\": {\n        \"dtype\": \"category\",\n        \"num_unique_values\": 9,\n        \"samples\": [\n          \"25-30\",\n          \"55-60\"\n        ],\n        \"semantic_type\": \"\",\n        \"description\": \"\"\n      }\n    },\n    {\n      \"column\": \"gender\",\n      \"properties\": {\n        \"dtype\": \"category\",\n        \"num_unique_values\": 2,\n        \"samples\": [\n          \"FEMALE\",\n          \"MALE\"\n        ],\n        \"semantic_type\": \"\",\n        \"description\": \"\"\n      }\n    },\n    {\n      \"column\": \"quantity\",\n      \"properties\": {\n        \"dtype\": \"number\",\n        \"std\": 5,\n        \"min\": 1,\n        \"max\": 19,\n        \"num_unique_values\": 19,\n        \"samples\": [\n          18,\n          7\n        ],\n        \"semantic_type\": \"\",\n        \"description\": \"\"\n      }\n    },\n    {\n      \"column\": \"amount\",\n      \"properties\": {\n        \"dtype\": \"number\",\n        \"std\": 3052,\n        \"min\": 100,\n        \"max\": 9900,\n        \"num_unique_values\": 7,\n        \"samples\": [\n          4600,\n          100\n        ],\n        \"semantic_type\": \"\",\n        \"description\": \"\"\n      }\n    },\n    {\n      \"column\": \"card_type\",\n      \"properties\": {\n        \"dtype\": \"category\",\n        \"num_unique_values\": 2,\n        \"samples\": [\n          \"PREMIUM\",\n          \"REGULAR\"\n        ],\n        \"semantic_type\": \"\",\n        \"description\": \"\"\n      }\n    },\n    {\n      \"column\": \"weather_list\",\n      \"properties\": {\n        \"dtype\": \"category\",\n        \"num_unique_values\": 6,\n        \"samples\": [\n          \"Cloudy\",\n          \"Sunny\"\n        ],\n        \"semantic_type\": \"\",\n        \"description\": \"\"\n      }\n    },\n    {\n      \"column\": \"temperature_list\",\n      \"properties\": {\n        \"dtype\": \"number\",\n        \"std\": 5,\n        \"min\": 8,\n        \"max\": 41,\n        \"num_unique_values\": 32,\n        \"samples\": [\n          13,\n          20\n        ],\n        \"semantic_type\": \"\",\n        \"description\": \"\"\n      }\n    },\n    {\n      \"column\": \"realfell_list\",\n      \"properties\": {\n        \"dtype\": \"number\",\n        \"std\": 5,\n        \"min\": 10,\n        \"max\": 41,\n        \"num_unique_values\": 31,\n        \"samples\": [\n          39,\n          23\n        ],\n        \"semantic_type\": \"\",\n        \"description\": \"\"\n      }\n    }\n  ]\n}"
            }
          },
          "metadata": {},
          "execution_count": 42
        }
      ]
    },
    {
      "cell_type": "code",
      "source": [
        "from pyspark.sql import SparkSession\n",
        "from pyspark.sql.functions import when\n",
        "from pyspark.ml.feature import StringIndexer, VectorAssembler\n",
        "\n",
        "# Initialize Spark session\n",
        "spark = SparkSession.builder.master(\"local[*]\").appName(\"OOT_Predictions\").getOrCreate()\n",
        "\n",
        "# Convert Pandas DataFrame to Spark DataFrame\n",
        "oot_spark_df = spark.createDataFrame(oot_data)\n",
        "\n",
        "# Convert Age Group to Numeric Categories\n",
        "oot_spark_df = oot_spark_df.withColumn(\n",
        "    \"age\",\n",
        "    when(oot_spark_df[\"age\"] == \"18-25\", 1)\n",
        "    .when(oot_spark_df[\"age\"] == \"25-30\", 2)\n",
        "    .when(oot_spark_df[\"age\"] == \"30-35\", 3)\n",
        "    .when(oot_spark_df[\"age\"] == \"35-40\", 4)\n",
        "    .when(oot_spark_df[\"age\"] == \"40-45\", 5)\n",
        "    .when(oot_spark_df[\"age\"] == \"45-50\", 6)\n",
        "    .when(oot_spark_df[\"age\"] == \"50-55\", 7)\n",
        "    .when(oot_spark_df[\"age\"] == \"55-60\", 8)\n",
        "    .otherwise(9)  # \"60 Above\"\n",
        ")\n",
        "\n",
        "# Define indexers for categorical features\n",
        "indexers = [\n",
        "    StringIndexer(inputCol=\"member_type\", outputCol=\"member_type_idx\"),\n",
        "    StringIndexer(inputCol=\"branch\", outputCol=\"branch_idx\"),\n",
        "    StringIndexer(inputCol=\"gender\", outputCol=\"gender_idx\"),\n",
        "    StringIndexer(inputCol=\"card_type\", outputCol=\"card_type_idx\"),\n",
        "    StringIndexer(inputCol=\"weather_list\", outputCol=\"weather_idx\")\n",
        "]\n",
        "\n",
        "# Apply indexers\n",
        "for indexer in indexers:\n",
        "    oot_spark_df = indexer.fit(oot_spark_df).transform(oot_spark_df)\n",
        "\n",
        "# Assemble features into a single vector\n",
        "feature_cols = [\"member_type_idx\", \"branch_idx\", \"age\", \"gender_idx\", \"quantity\", \"amount\",\n",
        "                \"card_type_idx\", \"weather_idx\", \"temperature_list\", \"realfell_list\"]\n",
        "assembler = VectorAssembler(inputCols=feature_cols, outputCol=\"features\")\n",
        "\n",
        "oot_spark_df = assembler.transform(oot_spark_df)\n",
        "\n",
        "# Select relevant columns for predictions\n",
        "oot_spark_df = oot_spark_df.select(\"features\")\n",
        "\n",
        "# Show the transformed dataset\n",
        "oot_spark_df.show(5, truncate=False)"
      ],
      "metadata": {
        "colab": {
          "base_uri": "https://localhost:8080/"
        },
        "id": "QXvLPvQbY7uG",
        "outputId": "4610a673-5414-4488-a3b9-fad7daad5405"
      },
      "execution_count": null,
      "outputs": [
        {
          "output_type": "stream",
          "name": "stdout",
          "text": [
            "+-----------------------------------------------+\n",
            "|features                                       |\n",
            "+-----------------------------------------------+\n",
            "|[0.0,1.0,4.0,1.0,18.0,4600.0,0.0,5.0,25.0,27.0]|\n",
            "|[0.0,0.0,8.0,0.0,13.0,100.0,1.0,0.0,32.0,30.0] |\n",
            "|[0.0,7.0,9.0,1.0,14.0,100.0,0.0,1.0,22.0,22.0] |\n",
            "|[0.0,9.0,6.0,0.0,6.0,2800.0,1.0,3.0,30.0,27.0] |\n",
            "|[0.0,1.0,1.0,0.0,8.0,3700.0,0.0,2.0,27.0,24.0] |\n",
            "+-----------------------------------------------+\n",
            "only showing top 5 rows\n",
            "\n"
          ]
        }
      ]
    },
    {
      "cell_type": "code",
      "source": [
        "# Install PySpark\n",
        "!pip install pyspark\n",
        "\n",
        "# Retry the preprocessing step after installation\n",
        "from pyspark.sql import SparkSession\n",
        "from pyspark.sql.functions import when\n",
        "from pyspark.ml.feature import StringIndexer, VectorAssembler\n",
        "\n",
        "# Initialize Spark session\n",
        "spark = SparkSession.builder.master(\"local[*]\").appName(\"OOT_Predictions\").getOrCreate()\n",
        "\n",
        "# Convert Pandas DataFrame to Spark DataFrame\n",
        "oot_spark_df = spark.createDataFrame(oot_data)\n",
        "\n",
        "# Convert Age Group to Numeric Categories\n",
        "oot_spark_df = oot_spark_df.withColumn(\n",
        "    \"age\",\n",
        "    when(oot_spark_df[\"age\"] == \"18-25\", 1)\n",
        "    .when(oot_spark_df[\"age\"] == \"25-30\", 2)\n",
        "    .when(oot_spark_df[\"age\"] == \"30-35\", 3)\n",
        "    .when(oot_spark_df[\"age\"] == \"35-40\", 4)\n",
        "    .when(oot_spark_df[\"age\"] == \"40-45\", 5)\n",
        "    .when(oot_spark_df[\"age\"] == \"45-50\", 6)\n",
        "    .when(oot_spark_df[\"age\"] == \"50-55\", 7)\n",
        "    .when(oot_spark_df[\"age\"] == \"55-60\", 8)\n",
        "    .otherwise(9)  # \"60 Above\"\n",
        ")\n",
        "\n",
        "# Define indexers for categorical features\n",
        "indexers = [\n",
        "    StringIndexer(inputCol=\"member_type\", outputCol=\"member_type_idx\"),\n",
        "    StringIndexer(inputCol=\"branch\", outputCol=\"branch_idx\"),\n",
        "    StringIndexer(inputCol=\"gender\", outputCol=\"gender_idx\"),\n",
        "    StringIndexer(inputCol=\"card_type\", outputCol=\"card_type_idx\"),\n",
        "    StringIndexer(inputCol=\"weather_list\", outputCol=\"weather_idx\")\n",
        "]\n",
        "\n",
        "# Apply indexers\n",
        "for indexer in indexers:\n",
        "    oot_spark_df = indexer.fit(oot_spark_df).transform(oot_spark_df)\n",
        "\n",
        "# Assemble features into a single vector\n",
        "feature_cols = [\"member_type_idx\", \"branch_idx\", \"age\", \"gender_idx\", \"quantity\", \"amount\",\n",
        "                \"card_type_idx\", \"weather_idx\", \"temperature_list\", \"realfell_list\"]\n",
        "assembler = VectorAssembler(inputCols=feature_cols, outputCol=\"features\")\n",
        "\n",
        "oot_spark_df = assembler.transform(oot_spark_df)\n",
        "\n",
        "# Select relevant columns for predictions\n",
        "oot_spark_df = oot_spark_df.select(\"features\")\n",
        "\n",
        "# Show the transformed dataset\n",
        "oot_spark_df.show(5, truncate=False)"
      ],
      "metadata": {
        "colab": {
          "base_uri": "https://localhost:8080/"
        },
        "id": "cUWiL4bgZAOd",
        "outputId": "9da4c588-e741-4cf8-8941-221b7e78691d"
      },
      "execution_count": null,
      "outputs": [
        {
          "output_type": "stream",
          "name": "stdout",
          "text": [
            "Requirement already satisfied: pyspark in /usr/local/lib/python3.11/dist-packages (3.5.5)\n",
            "Requirement already satisfied: py4j==0.10.9.7 in /usr/local/lib/python3.11/dist-packages (from pyspark) (0.10.9.7)\n",
            "+-----------------------------------------------+\n",
            "|features                                       |\n",
            "+-----------------------------------------------+\n",
            "|[0.0,1.0,4.0,1.0,18.0,4600.0,0.0,5.0,25.0,27.0]|\n",
            "|[0.0,0.0,8.0,0.0,13.0,100.0,1.0,0.0,32.0,30.0] |\n",
            "|[0.0,7.0,9.0,1.0,14.0,100.0,0.0,1.0,22.0,22.0] |\n",
            "|[0.0,9.0,6.0,0.0,6.0,2800.0,1.0,3.0,30.0,27.0] |\n",
            "|[0.0,1.0,1.0,0.0,8.0,3700.0,0.0,2.0,27.0,24.0] |\n",
            "+-----------------------------------------------+\n",
            "only showing top 5 rows\n",
            "\n"
          ]
        }
      ]
    }
  ]
}